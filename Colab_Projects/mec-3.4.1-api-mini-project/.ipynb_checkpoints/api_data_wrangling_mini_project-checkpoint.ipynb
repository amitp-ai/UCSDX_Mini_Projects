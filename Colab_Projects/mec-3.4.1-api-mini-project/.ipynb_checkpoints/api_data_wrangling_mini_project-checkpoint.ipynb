{
 "cells": [
  {
   "cell_type": "markdown",
   "metadata": {},
   "source": [
    "This exercise will require you to pull some data from the Qunadl API. Qaundl is currently the most widely used aggregator of financial market data."
   ]
  },
  {
   "cell_type": "markdown",
   "metadata": {},
   "source": [
    "As a first step, you will need to register a free account on the http://www.quandl.com website."
   ]
  },
  {
   "cell_type": "markdown",
   "metadata": {},
   "source": [
    "After you register, you will be provided with a unique API key, that you should store:"
   ]
  },
  {
   "cell_type": "code",
   "execution_count": 1,
   "metadata": {},
   "outputs": [],
   "source": [
    "# Store the API key as a string - according to PEP8, constants are always named in all upper case\n",
    "API_KEY = '' #load from json file below"
   ]
  },
  {
   "cell_type": "code",
   "execution_count": 2,
   "metadata": {},
   "outputs": [
    {
     "name": "stdout",
     "output_type": "stream",
     "text": [
      "api_data_wrangling_mini_project.html   quandl_config_secret.json\n",
      "api_data_wrangling_mini_project.ipynb\n"
     ]
    }
   ],
   "source": [
    "!ls"
   ]
  },
  {
   "cell_type": "code",
   "execution_count": 4,
   "metadata": {},
   "outputs": [],
   "source": [
    "import json\n",
    "with open('./quandl_config_secret.json') as key_file:\n",
    "    key = json.load(key_file)\n",
    "API_KEY = key['key']"
   ]
  },
  {
   "cell_type": "markdown",
   "metadata": {},
   "source": [
    "Qaundl has a large number of data sources, but, unfortunately, most of them require a Premium subscription. Still, there are also a good number of free datasets."
   ]
  },
  {
   "cell_type": "markdown",
   "metadata": {},
   "source": [
    "For this mini project, we will focus on equities data from the Frankfurt Stock Exhange (FSE), which is available for free. We'll try and analyze the stock prices of a company called Carl Zeiss Meditec, which manufactures tools for eye examinations, as well as medical lasers for laser eye surgery: https://www.zeiss.com/meditec/int/home.html. The company is listed under the stock ticker AFX_X."
   ]
  },
  {
   "cell_type": "markdown",
   "metadata": {},
   "source": [
    "You can find the detailed Quandl API instructions here: https://docs.quandl.com/docs/time-series"
   ]
  },
  {
   "cell_type": "markdown",
   "metadata": {},
   "source": [
    "While there is a dedicated Python package for connecting to the Quandl API, we would prefer that you use the *requests* package, which can be easily downloaded using *pip* or *conda*. You can find the documentation for the package here: http://docs.python-requests.org/en/master/ "
   ]
  },
  {
   "cell_type": "markdown",
   "metadata": {},
   "source": [
    "Finally, apart from the *requests* package, you are encouraged to not use any third party Python packages, such as *pandas*, and instead focus on what's available in the Python Standard Library (the *collections* module might come in handy: https://pymotw.com/3/collections/).\n",
    "Also, since you won't have access to DataFrames, you are encouraged to us Python's native data structures - preferably dictionaries, though some questions can also be answered using lists.\n",
    "You can read more on these data structures here: https://docs.python.org/3/tutorial/datastructures.html"
   ]
  },
  {
   "cell_type": "markdown",
   "metadata": {},
   "source": [
    "Keep in mind that the JSON responses you will be getting from the API map almost one-to-one to Python's dictionaries. Unfortunately, they can be very nested, so make sure you read up on indexing dictionaries in the documentation provided above."
   ]
  },
  {
   "cell_type": "code",
   "execution_count": 5,
   "metadata": {},
   "outputs": [],
   "source": [
    "# First, import the relevant modules\n",
    "import requests\n",
    "import json"
   ]
  },
  {
   "cell_type": "markdown",
   "metadata": {},
   "source": [
    "### Now, call the Quandl API and pull out a small sample of the data (only one day) to get a glimpse into the JSON structure that will be returned"
   ]
  },
  {
   "cell_type": "code",
   "execution_count": 26,
   "metadata": {},
   "outputs": [],
   "source": [
    "# url = 'https://www.quandl.com/api/v3/datasets/'\n",
    "# params = {'database_code': 'FSE', 'dataset_code': 'AFX_X', 'api_key': API_KEY}\n",
    "url = 'https://www.quandl.com/api/v3/datasets/FSE/AFX_X/data.json'\n",
    "params = {'api_key': API_KEY, 'start_date': '2017-01-01', 'end_date': '2017-12-31'}\n",
    "\n",
    "#create a request\n",
    "r = requests.get(url, params=params)"
   ]
  },
  {
   "cell_type": "code",
   "execution_count": 27,
   "metadata": {},
   "outputs": [
    {
     "name": "stdout",
     "output_type": "stream",
     "text": [
      "https://www.quandl.com/api/v3/datasets/FSE/AFX_X/data.json?api_key=2gxUki2FGMDKbxSrweuE&start_date=2017-01-01&end_date=2017-12-31\n",
      "200\n"
     ]
    }
   ],
   "source": [
    "print(r.url)\n",
    "print(r.status_code)"
   ]
  },
  {
   "cell_type": "code",
   "execution_count": 28,
   "metadata": {},
   "outputs": [
    {
     "name": "stdout",
     "output_type": "stream",
     "text": [
      "dict_keys(['limit', 'transform', 'column_index', 'column_names', 'start_date', 'end_date', 'frequency', 'data', 'collapse', 'order'])\n"
     ]
    },
    {
     "data": {
      "text/plain": [
       "['2017-12-29',\n",
       " 51.76,\n",
       " 51.94,\n",
       " 51.45,\n",
       " 51.76,\n",
       " None,\n",
       " 34640.0,\n",
       " 1792304.0,\n",
       " None,\n",
       " None,\n",
       " None]"
      ]
     },
     "execution_count": 28,
     "metadata": {},
     "output_type": "execute_result"
    }
   ],
   "source": [
    "content = json.loads(r.content)\n",
    "dataset = content['dataset_data']\n",
    "print(dataset.keys())\n",
    "dataset['data'][0]"
   ]
  },
  {
   "cell_type": "code",
   "execution_count": 29,
   "metadata": {},
   "outputs": [],
   "source": [
    "# Inspect the JSON structure of the object you created, and take note of how nested it is,\n",
    "# as well as the overall structure\n",
    "\n",
    "# Already Done Above\n"
   ]
  },
  {
   "cell_type": "markdown",
   "metadata": {},
   "source": [
    "These are your tasks for this mini project:\n",
    "\n",
    "1. Collect data from the Franfurt Stock Exchange, for the ticker AFX_X, for the whole year 2017 (keep in mind that the date format is YYYY-MM-DD).\n",
    "2. Convert the returned JSON object into a Python dictionary.\n",
    "3. Calculate what the highest and lowest opening prices were for the stock in this period.\n",
    "4. What was the largest change in any one day (based on High and Low price)?\n",
    "5. What was the largest change between any two days (based on Closing Price)?\n",
    "6. What was the average daily trading volume during this year?\n",
    "7. (Optional) What was the median trading volume during this year. (Note: you may need to implement your own function for calculating the median.)"
   ]
  },
  {
   "cell_type": "markdown",
   "metadata": {},
   "source": [
    "## My Implementation"
   ]
  },
  {
   "cell_type": "code",
   "execution_count": 31,
   "metadata": {},
   "outputs": [
    {
     "name": "stdout",
     "output_type": "stream",
     "text": [
      "dict_keys(['limit', 'transform', 'column_index', 'column_names', 'start_date', 'end_date', 'frequency', 'data', 'collapse', 'order'])\n"
     ]
    }
   ],
   "source": [
    "# 1. Collect data from the Franfurt Stock Exchange, for the ticker AFX_X, for the whole year 2017 (keep in mind that the date format is YYYY-MM-DD).\n",
    "# Already Done Above\n",
    "data = dataset['data']\n",
    "print(dataset.keys())\n",
    "# print(data)\n",
    "\n",
    "# def data_for_2017(data_full):\n",
    "#     data = []\n",
    "#     for d in data_full:\n",
    "#         if '2017' in d[0]:\n",
    "#             data.append(d)\n",
    "#     return data\n",
    "# data = data_for_2017(data)"
   ]
  },
  {
   "cell_type": "code",
   "execution_count": 32,
   "metadata": {},
   "outputs": [
    {
     "name": "stdout",
     "output_type": "stream",
     "text": [
      "dict_keys(['limit', 'transform', 'column_index', 'column_names', 'start_date', 'end_date', 'frequency', 'data', 'collapse', 'order'])\n",
      "['Date', 'Open', 'High', 'Low', 'Close', 'Change', 'Traded Volume', 'Turnover', 'Last Price of the Day', 'Daily Traded Units', 'Daily Turnover']\n",
      "['2017-12-29', 51.76, 51.94, 51.45, 51.76, None, 34640.0, 1792304.0, None, None, None]\n"
     ]
    }
   ],
   "source": [
    "# 2. Convert the returned JSON object into a Python dictionary.\n",
    "# Already done above using json.loads()\n",
    "print(dataset.keys())\n",
    "print(dataset['column_names'])\n",
    "# # print(dataset['column_index'])\n",
    "# print(dataset['start_date'])\n",
    "print(dataset['data'][0])\n",
    "DATE_IDX = 0\n",
    "OPEN_IDX = 1\n",
    "HIGH_IDX = 2\n",
    "LOW_IDX = 3\n",
    "CLOSE_IDX = 4\n",
    "VOL_IDX = 6"
   ]
  },
  {
   "cell_type": "code",
   "execution_count": 33,
   "metadata": {},
   "outputs": [
    {
     "name": "stdout",
     "output_type": "stream",
     "text": [
      "Highest opening price is 53.11 and Lowest opening price is 34.0\n"
     ]
    }
   ],
   "source": [
    "# 3. Calculate what the highest and lowest opening prices were for the stock in this period.\n",
    "def calc_highest_lowest_opening_prices(data):\n",
    "    max_ = -float('inf')\n",
    "    min_ = -max_\n",
    "    for d in data:\n",
    "        if d[OPEN_IDX] and d[OPEN_IDX] < min_: min_ = d[OPEN_IDX]\n",
    "        elif d[OPEN_IDX] and d[OPEN_IDX] >  max_: max_ = d[OPEN_IDX]\n",
    "    print(f'Highest opening price is {max_} and Lowest opening price is {min_}')\n",
    "calc_highest_lowest_opening_prices(data)"
   ]
  },
  {
   "cell_type": "code",
   "execution_count": 34,
   "metadata": {},
   "outputs": [
    {
     "name": "stdout",
     "output_type": "stream",
     "text": [
      "Largest daily price change is 2.8100000000000023 and occurs on 2017-05-11\n"
     ]
    }
   ],
   "source": [
    "# 4. What was the largest change in any one day (based on High and Low price)?\n",
    "def largest_change_any_one_day(data):\n",
    "    max_chng = -float('inf')\n",
    "    idx = None\n",
    "    for i, d in enumerate(data):\n",
    "        high = d[HIGH_IDX]\n",
    "        low = d[LOW_IDX]\n",
    "        if high and low:\n",
    "            if max_chng < abs(high-low): max_chng = abs(high-low); idx=i\n",
    "    print(f'Largest daily price change is {max_chng} and occurs on {data[idx][0]}') \n",
    "largest_change_any_one_day(data)      \n",
    "        "
   ]
  },
  {
   "cell_type": "code",
   "execution_count": 35,
   "metadata": {},
   "outputs": [
    {
     "name": "stdout",
     "output_type": "stream",
     "text": [
      "Largest change between any two days is 2.559999999999995 and it occurs between 2017-08-08 and 2017-08-09\n"
     ]
    }
   ],
   "source": [
    "# 5. What was the largest change between any two days (based on Closing Price)?\n",
    "def largest_change_between_two_days(data):\n",
    "    max_diff = abs(data[0][CLOSE_IDX] - data[1][CLOSE_IDX])\n",
    "    idx = 0\n",
    "    for i in range(2, len(data)):\n",
    "        prev = data[i-1]\n",
    "        curr = data[i]\n",
    "        if curr[CLOSE_IDX] and prev[CLOSE_IDX]: diff = abs(curr[CLOSE_IDX] - prev[CLOSE_IDX])\n",
    "        if diff > max_diff: max_diff=diff; idx = i\n",
    "    print(f'Largest change between any two days is {max_diff} and it occurs between {data[idx][0]} and {data[idx-1][0]}')\n",
    "largest_change_between_two_days(data)\n",
    "        "
   ]
  },
  {
   "cell_type": "code",
   "execution_count": 36,
   "metadata": {},
   "outputs": [
    {
     "name": "stdout",
     "output_type": "stream",
     "text": [
      "Average daily trading volume is 89124.33725490196\n"
     ]
    }
   ],
   "source": [
    "# 6. What was the average daily trading volume during this year?\n",
    "def avg_trading_vol(data):\n",
    "    count = 0\n",
    "    sum_vol = 0\n",
    "    for d in data:\n",
    "        if d[VOL_IDX]:\n",
    "            count += 1\n",
    "            sum_vol += d[VOL_IDX]\n",
    "    print(f'Average daily trading volume is {sum_vol/count}')\n",
    "\n",
    "avg_trading_vol(data)    "
   ]
  },
  {
   "cell_type": "code",
   "execution_count": 37,
   "metadata": {},
   "outputs": [
    {
     "name": "stdout",
     "output_type": "stream",
     "text": [
      "The median trading volume is: 76286.0\n"
     ]
    }
   ],
   "source": [
    "# 7. (Optional) What was the median trading volume during this year. (Note: you may need to implement your own function for calculating the median.)\n",
    "def median_trading_vol(data):\n",
    "    vol = []\n",
    "    for d in data:\n",
    "        if d[VOL_IDX]: vol.append(d[VOL_IDX])\n",
    "    vol = sorted(vol)\n",
    "    if len(vol)%2 == 0:\n",
    "        p2 = len(vol)/2\n",
    "        p1 = p2-1\n",
    "        median = (vol[p1]+vol[p2])/2\n",
    "    else:\n",
    "        p = len(vol)//2\n",
    "        median = vol[p]\n",
    "    print(f'The median trading volume is: {median}')\n",
    "\n",
    "median_trading_vol(data)            "
   ]
  },
  {
   "cell_type": "code",
   "execution_count": null,
   "metadata": {},
   "outputs": [],
   "source": []
  }
 ],
 "metadata": {
  "kernelspec": {
   "display_name": "Python 3",
   "language": "python",
   "name": "python3"
  },
  "language_info": {
   "codemirror_mode": {
    "name": "ipython",
    "version": 3
   },
   "file_extension": ".py",
   "mimetype": "text/x-python",
   "name": "python",
   "nbconvert_exporter": "python",
   "pygments_lexer": "ipython3",
   "version": "3.7.9"
  }
 },
 "nbformat": 4,
 "nbformat_minor": 4
}
